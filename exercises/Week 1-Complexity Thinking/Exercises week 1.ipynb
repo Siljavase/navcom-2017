{
 "cells": [
  {
   "cell_type": "markdown",
   "metadata": {
    "slideshow": {
     "slide_type": "slide"
    }
   },
   "source": [
    "# Exercises week 1: Complexity Thinking\n",
    "\n",
    "Not much happening this week yet.\n",
    "\n",
    "![$\\mathcal{O}(1), $\\mathcal{O}(n)$, $\\mathcal{O}(n^m)$, $\\mathcal{O}(\\log{} n)$](http://callmenick.com/files/2015-08/time-complexity-feat.png)\n",
    "\n",
    "$\\mathcal{O}(1)$, $\\mathcal{O}(n)$, $\\mathcal{O}(n^m)$, $\\mathcal{O}(\\log{} n)$ do you know what these are?"
   ]
  },
  {
   "cell_type": "markdown",
   "metadata": {
    "slideshow": {
     "slide_type": "fragment"
    }
   },
   "source": [
    " Forget about them, this is not that kind of course."
   ]
  },
  {
   "cell_type": "markdown",
   "metadata": {
    "slideshow": {
     "slide_type": "slide"
    }
   },
   "source": [
    "## 1. Teaching assistants introduce themselves\n",
    "\n",
    "Hello I am... How did I end up in this room with you people?"
   ]
  },
  {
   "cell_type": "markdown",
   "metadata": {
    "slideshow": {
     "slide_type": "slide"
    }
   },
   "source": [
    "## 2. Student intro round\n",
    "\n",
    "Hello my name is ... and my Bachelor was in... I think I ended up in this room on this particular day because..."
   ]
  },
  {
   "cell_type": "markdown",
   "metadata": {},
   "source": [
    "## 3. How to read\n",
    "\n",
    "TAs talk to you about academic reading for a little while."
   ]
  },
  {
   "cell_type": "markdown",
   "metadata": {
    "slideshow": {
     "slide_type": "slide"
    }
   },
   "source": [
    "## 4. Homework: Install things"
   ]
  },
  {
   "cell_type": "markdown",
   "metadata": {
    "slideshow": {
     "slide_type": "fragment"
    }
   },
   "source": [
    "We will be making these things called [*Jupyter Notebooks*](../../Intro to Jupyter Notebooks.ipynb) along the course. You will get used to them."
   ]
  },
  {
   "cell_type": "markdown",
   "metadata": {
    "slideshow": {
     "slide_type": "fragment"
    }
   },
   "source": [
    "## Install\n",
    "\n",
    "* *git*. It allows you to manage versions <span class=\"label label-info\">You might already have it. Try running `git` on the command line</span>\n",
    "* *Python 3*. It allows you to program\n",
    "* *[Gephi](http://gephi.org)*. It allows you to interactively explore graphs"
   ]
  },
  {
   "cell_type": "markdown",
   "metadata": {
    "slideshow": {
     "slide_type": "fragment"
    }
   },
   "source": [
    "Python libraries and other addons\n",
    "\n",
    "* *IPython*. It makes using Python nicer\n",
    "* *Jupyter*. It allows you to do other things, you won't see it much\n",
    "* *Jupyter Notebooks*. It allows you to write documents, with code in them\n",
    "* *Pandas*. It allows you do deal with data frames\n",
    "* *NetworkX*. It allows you do deal with graphs (=networks)\n",
    "\n",
    "Either run the following on the command line (*Terminal* on OSX, *cmd* on Windows)\n",
    "\n",
    "    pip3 install jupyter pandas networkx\n",
    "    \n",
    "Or\n",
    "\n",
    "Use Anaconda to get Python, and the above libraries."
   ]
  },
  {
   "cell_type": "markdown",
   "metadata": {},
   "source": [
    "## Give it a spin\n",
    "\n",
    "If you installed Anaconda, do the [Anaconda test drive](https://conda.io/docs/test-drive.html)\n",
    "\n",
    "Go through some Jupyter Notebook tutorial.\n",
    "\n",
    "Go through some Gephi tutorial."
   ]
  }
 ],
 "metadata": {
  "kernelspec": {
   "display_name": "Python 3",
   "language": "python",
   "name": "python3"
  },
  "language_info": {
   "codemirror_mode": {
    "name": "ipython",
    "version": 3
   },
   "file_extension": ".py",
   "mimetype": "text/x-python",
   "name": "python",
   "nbconvert_exporter": "python",
   "pygments_lexer": "ipython3",
   "version": "3.6.2"
  }
 },
 "nbformat": 4,
 "nbformat_minor": 2
}
