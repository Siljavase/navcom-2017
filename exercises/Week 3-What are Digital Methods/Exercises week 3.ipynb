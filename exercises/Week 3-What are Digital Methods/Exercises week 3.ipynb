{
 "cells": [
  {
   "cell_type": "markdown",
   "metadata": {},
   "source": [
    "# Exercises week 3: What are Digital Methods?"
   ]
  },
  {
   "cell_type": "markdown",
   "metadata": {},
   "source": [
    "## 1. Install Tableau Desktop\n",
    "\n",
    "<img src=\"https://cdns.tblsft.com/sites/default/files/pages/answerdeeperquestions.png\" style=\"width: 50%; float: right;\"></img>\n",
    "\n",
    "Students are given a license for this software."
   ]
  },
  {
   "cell_type": "markdown",
   "metadata": {},
   "source": [
    "## 2. Open the DAMD data in Tableau\n",
    "\n",
    "What shape is the data? What variables are there? Is the data complete, or are there missing values somewhere? How is the phenomenon represented? What is the data even about?"
   ]
  },
  {
   "cell_type": "markdown",
   "metadata": {},
   "source": [
    "## 3. How is the data distributed over time?\n",
    "\n",
    "Create a histogram over the years. What new insight is gained to the data? What are we looking at? What is this thing called \"time\"?\n",
    "<img src=\"tweet-activity-over-years-with-tableau.png\" style=\"width: 50%; float: right;\"></img>"
   ]
  },
  {
   "cell_type": "markdown",
   "metadata": {},
   "source": [
    "### 3.1 A reproduction with Python\n",
    "\n",
    "To demonstrate programming, similar visualization can be produced computationally. Can you follow the steps and get a general idea what the steps are?"
   ]
  },
  {
   "cell_type": "code",
   "execution_count": 3,
   "metadata": {
    "collapsed": true
   },
   "outputs": [],
   "source": [
    "import pandas as pd\n",
    "%matplotlib inline"
   ]
  },
  {
   "cell_type": "markdown",
   "metadata": {},
   "source": [
    "Open the data file"
   ]
  },
  {
   "cell_type": "code",
   "execution_count": 4,
   "metadata": {},
   "outputs": [
    {
     "data": {
      "text/plain": [
       "Index(['Unnamed: 0', 'tweet_id', 'user_id', 'user_name', 'reply_to_id',\n",
       "       'created', 'message', 'geodata', 'place_id', 'place_type', 'place_name',\n",
       "       'place_country', 'language', 'retweet_count', 'hashtags',\n",
       "       'user_mentions_name', 'user_mentions_id', 'urls', 'media_id',\n",
       "       'media_type', 'media_url'],\n",
       "      dtype='object')"
      ]
     },
     "execution_count": 4,
     "metadata": {},
     "output_type": "execute_result"
    }
   ],
   "source": [
    "damd = pd.read_csv(\"20170718 hashtag_damd uncleaned.csv\")\n",
    "damd.columns"
   ]
  },
  {
   "cell_type": "markdown",
   "metadata": {},
   "source": [
    "Let's look at the `created` variable."
   ]
  },
  {
   "cell_type": "code",
   "execution_count": 5,
   "metadata": {},
   "outputs": [
    {
     "data": {
      "text/plain": [
       "0    Thu Jul 13 07:33:03 +0000 2017\n",
       "1    Mon Sep 05 16:13:07 +0000 2016\n",
       "2    Sun Feb 05 06:04:58 +0000 2017\n",
       "Name: created, dtype: object"
      ]
     },
     "execution_count": 5,
     "metadata": {},
     "output_type": "execute_result"
    }
   ],
   "source": [
    "damd['created'].head(3)"
   ]
  },
  {
   "cell_type": "markdown",
   "metadata": {},
   "source": [
    "Looks like dates, great. Let's set the data type."
   ]
  },
  {
   "cell_type": "code",
   "execution_count": 13,
   "metadata": {},
   "outputs": [
    {
     "data": {
      "text/plain": [
       "0   2017-07-13 07:33:03\n",
       "1   2016-09-05 16:13:07\n",
       "2   2017-02-05 06:04:58\n",
       "Name: created, dtype: datetime64[ns]"
      ]
     },
     "execution_count": 13,
     "metadata": {},
     "output_type": "execute_result"
    }
   ],
   "source": [
    "damd['created'] = pd.to_datetime(damd['created'])\n",
    "damd['created'].head(3)"
   ]
  },
  {
   "cell_type": "markdown",
   "metadata": {},
   "source": [
    "Let's group the data by year, and plot the count of items per year as a vertical barchart."
   ]
  },
  {
   "cell_type": "code",
   "execution_count": 30,
   "metadata": {},
   "outputs": [
    {
     "data": {
      "image/png": "[encoded data removed]",
      "text/plain": [
       "<matplotlib.figure.Figure at 0x10a935d30>"
      ]
     },
     "metadata": {},
     "output_type": "display_data"
    }
   ],
   "source": [
    "damd['created'].groupby(by=damd['created'].dt.year).count().plot.bar(figsize=(5, 6), title=\"Tweet activity over years\").grid(True, axis=\"y\")"
   ]
  },
  {
   "cell_type": "markdown",
   "metadata": {},
   "source": [
    "Did the above program create same output as you did in Tableau?"
   ]
  },
  {
   "cell_type": "markdown",
   "metadata": {},
   "source": [
    "## 4. Produce an interactive visualization for tweet exploration with Tableau\n",
    "\n",
    "<img src=\"interactive-timeline-visualization-for-tweet-exploration-with-tableau.png\" style=\"float: right; width: 50%;\"></img>\n",
    "\n",
    "In Tableau, create a timeline, where tweets are coloured by username, and the details include the tweet content. Use this to explore the topics in the DAMD data."
   ]
  },
  {
   "cell_type": "markdown",
   "metadata": {},
   "source": [
    "Compare Twitter and Facebook data."
   ]
  },
  {
   "cell_type": "markdown",
   "metadata": {},
   "source": [
    "## 5. Submit a data visualisation\n",
    "\n",
    "Hand in a visualization on [LearnIT](https://learnit.itu.dk/course/view.php?id=3017055)."
   ]
  }
 ],
 "metadata": {
  "kernelspec": {
   "display_name": "Python 3",
   "language": "python",
   "name": "python3"
  },
  "language_info": {
   "codemirror_mode": {
    "name": "ipython",
    "version": 3
   },
   "file_extension": ".py",
   "mimetype": "text/x-python",
   "name": "python",
   "nbconvert_exporter": "python",
   "pygments_lexer": "ipython3",
   "version": "3.6.2"
  }
 },
 "nbformat": 4,
 "nbformat_minor": 2
}
