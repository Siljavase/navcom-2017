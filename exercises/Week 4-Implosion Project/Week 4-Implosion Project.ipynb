{
 "cells": [
  {
   "cell_type": "markdown",
   "metadata": {
    "collapsed": true
   },
   "source": [
    "# Exercises week 4\n",
    "\n",
    "## Implosion Project and group formation\n",
    "\n",
    "Today’s exercise will explore the concept of situatedness and actor networks through an exercise we call the Object Implosion Project as developed in the Dumit (2014) text. We will use the text by Dumit to ask questions about everyday objects in order to sensitise ourselves to their many connections to other actors in the world. We will ask a series of questions to explore “how the object is in the world” and “how the world is in the object”. In this way, we will gain some analytic techniques for beginning to consider the situated and networked nature of all technological objects, including maps and visualisations. You will do this WITHOUT the internet!\n",
    "\n",
    "Having read the questions from Dumit’s “dimensions” you will consider how to apply these questions to your object. You will start by identifying what you already know about the object, then you will consider the ‘unknowns’—what is it you do not know about the object? Finally, you will consider: How would you go about finding out the answers? Are all questions answerable? What work would be involved in answering them? Find out more about your object using the resources available to you or make note of what work might be involved in answering these questions—how would you go about it?\n",
    "\n",
    "### Implosion Project schedule\n",
    "\n",
    "#### Intro\n",
    "The exercise class is divided into 3 groups, who will implode the room-specific object.\n",
    "\n",
    "* Exercise section A with Mace and Regina (5A14-16): **Wi-fi router**\n",
    "* Exercise section B with Asger and Silja (2A54): **Siri**\n",
    "* Exercise section C with Simy and Stefania (2A52): **Rejsekort**\n",
    "\n",
    "#### Twist 1 – Knowledge Map (aka braindump)\n",
    "The first step (Twist 1) is to do a brain dump collecting everything you can think of about the object using Dumit’s questions. Due to time, pick at least 2 dimensions from each of the two categories – 1) how is the world in it? & 2) how is it in the world? – for your brain dump and try to get through as many of them as you can. Collect your answers to Dumit’s questions or the new questions that your brainstorm provokes onto a large sheet of paper or a white board. By the time you are done you will have a map of your knowledge (or some of it) about this object.\n",
    "\n",
    "#### Twist 2 – Ignorance Map\n",
    "The second step (Twist 2) is to consider the gaps in your map in order to construct an ignorance map. This is about asking yourself not just WHAT you know about the object, but how you know, and how it is that you do not know. What patterns can you see in the gaps in your knowledge? The ignorance map is about identifying what you do not know.\n",
    "\n",
    "#### Twist 3 – Archives and making a presentation\n",
    "The final step (Twist 3) is to consider what kinds of infrastructures, collectives, actors, institutions etc. might hold more knowledge about your object? Where might data reside that would fill in your gap map? In addition to looking at Dumit’s questions, we want you to think specifically about where you might find more data on this object in the coming weeks. What are you most interested in exploring? Choose two areas of your gap map that you find interesting to present back to the class.\n",
    "\n",
    "#### Presentations for the class (3 minute presentation; 2-3 minutes of feedback)\n",
    "Each group will present back to the class a quick summary of your knowledge/gap map.\n",
    "\n",
    "### Group formation\n",
    "We will all **meet in 5A15-16 at 11:00**. The point of this exercise is for you to find people that share your research interests. There will be posters and post-its that you can use to brainstorm topics around. You need to form a group with at least 5-6 people and sign up on a piece of paper before you leave! Once you have found your group spend 10 min getting more aquatinted with your group and discussing the topic you want to research. You have until Friday at 14.00 to make any changes to this group formation. To change your group or if you have any questions about group formation please email Marisa about this. The new Thursday exercise groups based on the exam groups formed will be announced on Monday 25/9."
   ]
  }
 ],
 "metadata": {
  "kernelspec": {
   "display_name": "Python 3",
   "language": "python",
   "name": "python3"
  },
  "language_info": {
   "codemirror_mode": {
    "name": "ipython",
    "version": 3
   },
   "file_extension": ".py",
   "mimetype": "text/x-python",
   "name": "python",
   "nbconvert_exporter": "python",
   "pygments_lexer": "ipython3",
   "version": "3.6.2"
  }
 },
 "nbformat": 4,
 "nbformat_minor": 2
}
