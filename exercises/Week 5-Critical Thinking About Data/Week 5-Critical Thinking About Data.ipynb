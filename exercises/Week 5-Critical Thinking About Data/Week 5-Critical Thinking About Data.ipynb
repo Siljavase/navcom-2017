{
 "cells": [
  {
   "cell_type": "markdown",
   "metadata": {},
   "source": [
    "# Exercises week 5\n",
    "\n",
    "## Critical thinking about data\n",
    "\n",
    "### 1. Answering a question\n",
    "Below you will find links to several data sources. We want you to find the answer to this question:\n",
    "\n",
    "*“How many married people lived in Lithuania in 2011?”*\n",
    "\n",
    "**Write how you approach this issue in your logbooks:**\n",
    "* What do you search for?\n",
    "* What worked/did not work?\n",
    "* Look at the data!\n",
    "* How would you get the data into the tool?\n",
    "* What kind of data visualisation would you want to create?\n",
    "* What is your answer to the question and how did you find it?\n",
    "\n",
    "**Links to publicly available data sources:**\n",
    "* https://www.citydataexchange.com\n",
    "* http://data.kk.dk\n",
    "* http://ukdataservice.ac.uk\n",
    "* http://www.data.gov\n",
    "* http://data.europa.eu\n",
    "* https://ec.europa.eu/CensusHub2/\n",
    "\n",
    "\n",
    "### 2. Formulating a question\n",
    "Formulate a question to search for that is relevant for your project. Again write up the process in your logbooks.\n",
    "\n",
    "* How do you formulate a good question?\n",
    "* How do you pick keywords to search for?\n",
    "* What kind of data visualisation would you want to create?\n",
    "* Can you use any of the data sources listed above?\n",
    "* What tool would you use to create the visualisation you want?\n",
    "* What are other potential data sources, e.g. Google Trends|Ngram|Flu, Guardian API, NYTimes API?\n",
    "* Try using Google Image Search \n",
    "\n",
    "**Other publicly available data sources:**\n",
    "* https://www.healthdata.gov/\n",
    "* http://www.gapminder.org/data/\n",
    "* https://digital.nhs.uk/article/191/Find-data-and-publications\n",
    "* https://labrosa.ee.columbia.edu/millionsong/\n",
    "* https://www.opendatanetwork.com/"
   ]
  }
 ],
 "metadata": {
  "kernelspec": {
   "display_name": "Python 3",
   "language": "python",
   "name": "python3"
  },
  "language_info": {
   "codemirror_mode": {
    "name": "ipython",
    "version": 3
   },
   "file_extension": ".py",
   "mimetype": "text/x-python",
   "name": "python",
   "nbconvert_exporter": "python",
   "pygments_lexer": "ipython3",
   "version": "3.6.1"
  }
 },
 "nbformat": 4,
 "nbformat_minor": 2
}
