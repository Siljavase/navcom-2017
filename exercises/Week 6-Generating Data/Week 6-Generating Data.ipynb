{
 "cells": [
  {
   "cell_type": "markdown",
   "metadata": {},
   "source": [
    "## 1. What is an API?\n",
    "\n",
    "If you have not heard about APIs, you will :)\n",
    "\n",
    "For example, here is Twitter bot which posts random emoji star fields [@tiny_star_field](https://twitter.com/tiny_star_field). Somebody made another bot [@tiny_astro_naut](https://twitter.com/tiny_astro_naut) which [replies by adding a space rocket](https://twitter.com/tiny_astro_naut/status/913032959439097856), and yet somebody else made a third bot which adds a mission control room. Yeiiii! 🚀\n",
    "\n",
    "![](robochat.png)\n",
    "\n",
    "Programming! Cute! Space!!!\n",
    "\n",
    "Asger showed some Facebook Graph API on 2017-09-26, remember? Also remember how burdensome it was last week to make queries to [CensusHub](https://ec.europa.eu/CensusHub2)? APIs can help make such tasks.\n",
    "\n",
    "Another example is how our LearnIT and Peergrade are connected."
   ]
  },
  {
   "cell_type": "markdown",
   "metadata": {},
   "source": [
    "## 2. Infomedia\n",
    "\n",
    "Silja will look into the API and see if the data could be international and not just in Danish."
   ]
  },
  {
   "cell_type": "markdown",
   "metadata": {},
   "source": [
    "## 3. Introduction to TCAT\n",
    "\n",
    "Brief introduction to [Twitter Capture and Analysis Toolset aka TCAT](https://github.com/digitalmethodsinitiative/dmi-tcat) from Digital Methods Initiative, University of Amsterdam.\n",
    "\n",
    "Teaching Assistant provide a short walkthrough of TCAT user interface.\n",
    "\n",
    "[ETHOS-Lab website](https://ethos.itu.dk/tcat/) also contains some information about TCAT. At IT University of Copenhagen, we have TCAT for *Navigating Complexity* running at http://navcom-1.itu.dk/dmi-tcat/analysis/"
   ]
  },
  {
   "cell_type": "markdown",
   "metadata": {},
   "source": [
    "## 4. Introduction to query design with TCAT\n",
    "\n",
    "Some considerations:\n",
    "\n",
    "* Limiting and evaluating – look into twitter and get a sense of what you’d like to find out/ask. This is fieldwork!\n",
    "* When searching for a phrase like, *big data is crazy*, the query will capture any of the the words. That’s too broad!\n",
    "* More data is not the right path. Be smart!\n",
    "\n",
    "Are you looking for a future topic? What conferences are there in the future, do they have a hashtag?"
   ]
  },
  {
   "cell_type": "markdown",
   "metadata": {},
   "source": [
    "### TCAT query language\n",
    "\n",
    "<div class=\"alert alert-info\">\n",
    "<p>You can specify a list of tracking criteria consisting of single or multiple keyword queries, hashtags, and specific phrases. Each query should be separated by a comma. If you want to track a literal phrase, encapsulate it in single quotes (').</p>\n",
    "\n",
    "<p>DMI-TCAT allows for three types of 'track' queries:</p>\n",
    "\n",
    "<ol>\n",
    "    <li><strong>a single word/hashtag</strong>. Consider that Twitter does not do partial matching on words, i.e. <tt>[twitter]</tt> will get tweets with <tt>[twitter]</tt>, <tt>[#twitter]</tt> but not <tt>[twitteraddiction]</tt></li>\n",
    "    \n",
    "<li><strong>two or more words</strong>: works like an AND operator, i.e. <tt>[global warming]</tt> will find tweets that have both <tt>[global]</tt> and <tt>[warming]</tt> in any position in the tweet, e.g. <tt>\"life is global but not warming\"</tt></li>\n",
    "    \n",
    "<li><strong>exact phrases</strong>: <tt>['global warming']</tt> will get only tweets with the exact phrase. Beware, however that due to how the streaming API works, tweets are captured in the same way as in 2, but tweets that do not match the exact phrase are thrown away. This means that you will request many more tweets from the Twitter API than you will see in your query bin - thus increasing the possibility that you will hit a rate limit. E.g. if you specify a query like <tt>['are we']</tt> all tweets matching both <tt>[are]</tt> and <tt>[we]</tt> are retrieved, while DMI-TCAT only retains those with the exact phrase <tt>['are we']</tt></li>\n",
    "</ol>\n",
    "</div>\n",
    "\n",
    "For example:\n",
    "\n",
    "    globalwarming,global warming,'climate change'"
   ]
  },
  {
   "cell_type": "markdown",
   "metadata": {},
   "source": [
    "## 5. Set up a capture for your project\n",
    "\n",
    "### 5.1 Design you queries\n",
    "\n",
    "Of course, take notes of your design process in your lab notebooks. What did you consider? Why did you reject some of them? How do people on Twitter speak? What do you expect to capture? What might go wrong? What experience you have about Twitter? TCAT is about Twitter, what does that mean for your project?\n",
    "\n",
    "* Do fieldwork\n",
    "* Select hashtags\n",
    "* About 10 phrases is a good number\n",
    "\n",
    "See below for the TCAT query language.\n",
    "\n",
    "### 5.2 TAs will set your queries up on TCAT\n",
    "\n",
    "At about 11:20, bring your queries to the TAs, who will set them up on TCAT. TCAT will start capturing, and you can get your data later on this course. They will be called `NavCom2017_groupno_topic in a word or two`"
   ]
  }
 ],
 "metadata": {
  "kernelspec": {
   "display_name": "Python 3",
   "language": "python",
   "name": "python3"
  },
  "language_info": {
   "codemirror_mode": {
    "name": "ipython",
    "version": 3
   },
   "file_extension": ".py",
   "mimetype": "text/x-python",
   "name": "python",
   "nbconvert_exporter": "python",
   "pygments_lexer": "ipython3",
   "version": "3.6.2"
  }
 },
 "nbformat": 4,
 "nbformat_minor": 2
}
